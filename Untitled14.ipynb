{
  "nbformat": 4,
  "nbformat_minor": 0,
  "metadata": {
    "colab": {
      "private_outputs": true,
      "provenance": [],
      "authorship_tag": "ABX9TyMy6hDrR2PE4xuz06tqS7Ly",
      "include_colab_link": true
    },
    "kernelspec": {
      "name": "python3",
      "display_name": "Python 3"
    },
    "language_info": {
      "name": "python"
    }
  },
  "cells": [
    {
      "cell_type": "markdown",
      "metadata": {
        "id": "view-in-github",
        "colab_type": "text"
      },
      "source": [
        "<a href=\"https://colab.research.google.com/github/Irfanitha/github1/blob/main/Untitled14.ipynb\" target=\"_parent\"><img src=\"https://colab.research.google.com/assets/colab-badge.svg\" alt=\"Open In Colab\"/></a>"
      ]
    },
    {
      "cell_type": "code",
      "execution_count": null,
      "metadata": {
        "id": "xuZ0CL3j3fwD"
      },
      "outputs": [],
      "source": [
        "import pandas as pd\n",
        "import numpy as np\n",
        "import matplotlib.pyplot as plt\n",
        "import seaborn as sns\n",
        "\n"
      ]
    },
    {
      "cell_type": "code",
      "source": [
        "df=pd.read_csv('/content/seattle-weather.csv')"
      ],
      "metadata": {
        "id": "oiuT0koV4JDI"
      },
      "execution_count": null,
      "outputs": []
    },
    {
      "cell_type": "code",
      "source": [
        "df\n"
      ],
      "metadata": {
        "id": "84VwEIfi4TBS"
      },
      "execution_count": null,
      "outputs": []
    },
    {
      "cell_type": "code",
      "source": [
        "df.isna().sum()\n"
      ],
      "metadata": {
        "id": "3oKOsFOx4T5m"
      },
      "execution_count": null,
      "outputs": []
    },
    {
      "cell_type": "code",
      "source": [
        "df.columns"
      ],
      "metadata": {
        "id": "Xyyz9YWP4o36"
      },
      "execution_count": null,
      "outputs": []
    },
    {
      "cell_type": "code",
      "source": [
        "df.describe()"
      ],
      "metadata": {
        "id": "rzFJpGp-4rV8"
      },
      "execution_count": null,
      "outputs": []
    },
    {
      "cell_type": "code",
      "source": [
        "df.dtypes"
      ],
      "metadata": {
        "id": "HXJws86WGU0b"
      },
      "execution_count": null,
      "outputs": []
    },
    {
      "cell_type": "code",
      "source": [
        "#df['date'].dt.month # this shows error because this is not datetimeseries so please change this to )"
      ],
      "metadata": {
        "id": "bijmpIA5MM5d"
      },
      "execution_count": null,
      "outputs": []
    },
    {
      "cell_type": "code",
      "source": [
        "#changing to parse date ie date time format(00:00:00)\n",
        "df['date']=pd.to_datetime(df['date'])"
      ],
      "metadata": {
        "id": "Debgu689GY54"
      },
      "execution_count": null,
      "outputs": []
    },
    {
      "cell_type": "code",
      "source": [
        "df['date'].dt.month"
      ],
      "metadata": {
        "id": "m1L0makcLeX5"
      },
      "execution_count": null,
      "outputs": []
    },
    {
      "cell_type": "markdown",
      "source": [
        "\n",
        "\n"
      ],
      "metadata": {
        "id": "LJ6dITxXUb3c"
      }
    },
    {
      "cell_type": "markdown",
      "metadata": {
        "id": "fc57a2d6"
      },
      "source": [
        "# #'resample  by month'\n",
        "#resample() is a time-series function in Pandas that lets you group data by a specific time frequency — like daily, monthly, or yearly.\n",
        "| Code         | Description |\n",
        "| ------------ | ----------- |\n",
        "| 'D'          | Day         |\n",
        "| 'W'          | Week        |\n",
        "| 'M'          | Month-end   |\n",
        "| 'MS'         | Month-start |\n",
        "| 'Q'          | Quarter-end |\n",
        "| 'Y'          | Year-end    |\n",
        "| 'H'          | Hour         |\n",
        "| 'T' or 'min' | Minute      |\n",
        "| 'S'          | Second      |"
      ]
    },
    {
      "cell_type": "code",
      "source": [],
      "metadata": {
        "id": "MYIYf7IyTxhU"
      },
      "execution_count": null,
      "outputs": []
    },
    {
      "cell_type": "code",
      "source": [
        "# Set the date as index for resampling\n",
        "df.set_index('date', inplace=True)"
      ],
      "metadata": {
        "id": "geW87CzqTp3-"
      },
      "execution_count": null,
      "outputs": []
    },
    {
      "cell_type": "code",
      "source": [
        "df.columns"
      ],
      "metadata": {
        "id": "8DGgvGyGTycI"
      },
      "execution_count": null,
      "outputs": []
    },
    {
      "cell_type": "code",
      "source": [
        "df['wind'].resample('M').mean()"
      ],
      "metadata": {
        "id": "fyTD-4e-Sjsq"
      },
      "execution_count": null,
      "outputs": []
    },
    {
      "cell_type": "code",
      "source": [
        "month_tempmax= df['temp_max'].resample('ME').mean()\n",
        "month_tempmin= df['temp_min'].resample('ME').mean()\n",
        "df\n"
      ],
      "metadata": {
        "id": "i2ynVsTEVlsL"
      },
      "execution_count": null,
      "outputs": []
    },
    {
      "cell_type": "code",
      "source": [
        "# Monthly humidity stats\n",
        "monthly_humidity = df['precipitation'].resample('M').agg(['mean', 'max', 'min'])"
      ],
      "metadata": {
        "id": "IJh8fa_lWOzl"
      },
      "execution_count": null,
      "outputs": []
    },
    {
      "cell_type": "code",
      "source": [
        "df"
      ],
      "metadata": {
        "id": "sy_OvAy5Wlh4"
      },
      "execution_count": null,
      "outputs": []
    },
    {
      "cell_type": "code",
      "source": [
        "df['wind'].drop_duplicates().head()"
      ],
      "metadata": {
        "id": "LA5dVDsRWqCp"
      },
      "execution_count": null,
      "outputs": []
    },
    {
      "cell_type": "code",
      "source": [
        "plt.hist(df['wind'])"
      ],
      "metadata": {
        "id": "_k_L8ZR9-SZI"
      },
      "execution_count": null,
      "outputs": []
    },
    {
      "cell_type": "code",
      "source": [
        "sns.relplot(x='temp_max',y='temp_min',data=df)"
      ],
      "metadata": {
        "id": "L6BYLavxE7Lw"
      },
      "execution_count": null,
      "outputs": []
    },
    {
      "cell_type": "code",
      "source": [
        "sns.pairplot(df)"
      ],
      "metadata": {
        "id": "AHqZSd4bFkh9"
      },
      "execution_count": null,
      "outputs": []
    },
    {
      "cell_type": "code",
      "source": [
        "#adding hue\n",
        "sns.relplot(x='temp_max',y='temp_min',data=df,hue='weather')\n"
      ],
      "metadata": {
        "id": "-JbGGNMd7cBZ"
      },
      "execution_count": null,
      "outputs": []
    },
    {
      "cell_type": "code",
      "source": [
        "df.columns"
      ],
      "metadata": {
        "id": "uDTfA9bR9D3U"
      },
      "execution_count": null,
      "outputs": []
    },
    {
      "cell_type": "code",
      "source": [
        "#adding kind\n",
        "sns.relplot(x='precipitation',y='wind',data=df,hue='weather',kind='line')"
      ],
      "metadata": {
        "id": "aflqRtnB8RSq"
      },
      "execution_count": null,
      "outputs": []
    },
    {
      "cell_type": "code",
      "source": [
        "# prompt: i need to relplot the only rain or sun using weather and temp_max\n",
        "\n",
        "sns.relplot(x='wind', y='temp_max', data=df[(df['weather'] == 'rain') | (df['weather'] == 'sun')], hue='weather',kind='line')\n"
      ],
      "metadata": {
        "id": "vTPJ1SdIVIJ6"
      },
      "execution_count": null,
      "outputs": []
    },
    {
      "cell_type": "code",
      "source": [
        "# prompt: i need to relplot the only rain or sun using weather and temp_max\n",
        "\n",
        "sns.relplot(x='wind', y='precipitation', data=df[(df['weather'] == 'rain') | (df['weather'] == 'sun')], hue='weather')\n"
      ],
      "metadata": {
        "id": "fSHXn6nicr1O"
      },
      "execution_count": null,
      "outputs": []
    },
    {
      "cell_type": "code",
      "source": [
        "sns.pairplot(df,kind='line')"
      ],
      "metadata": {
        "id": "Hb4FeRtDHlNp"
      },
      "execution_count": null,
      "outputs": []
    },
    {
      "cell_type": "code",
      "source": [
        "df.loc[df['weather'].str.contains('rain')]"
      ],
      "metadata": {
        "id": "il1NyCFzb0uz"
      },
      "execution_count": null,
      "outputs": []
    },
    {
      "cell_type": "code",
      "source": [
        "#adding value_counts\n",
        "df.loc[df['weather'].str.contains('rain')].value_counts().sum()"
      ],
      "metadata": {
        "id": "jeTtqHoWQklU"
      },
      "execution_count": null,
      "outputs": []
    },
    {
      "cell_type": "code",
      "source": [
        "sns.heatmap(df[['precipitation']],cmap='viridis')# heatmap is a 2d array so give 2 specify the 1 column"
      ],
      "metadata": {
        "id": "XFCHbWQDbaig"
      },
      "execution_count": null,
      "outputs": []
    },
    {
      "cell_type": "code",
      "source": [
        "sns.heatmap(df[['temp_min','precipitation','temp_max']])#3 column"
      ],
      "metadata": {
        "id": "p3SCM-TTjNI5"
      },
      "execution_count": null,
      "outputs": []
    },
    {
      "cell_type": "code",
      "source": [
        "sns.heatmap(df[['temp_min','precipitation','temp_max']])#3 column"
      ],
      "metadata": {
        "id": "YA8f0x7Ad2PY"
      },
      "execution_count": null,
      "outputs": []
    },
    {
      "cell_type": "markdown",
      "source": [
        "correlation - corr()\n",
        "used for vchecking positive and negative :above 1 is positive and less than 1 is negative"
      ],
      "metadata": {
        "id": "Zy8uEQSRt004"
      }
    },
    {
      "cell_type": "code",
      "source": [
        "sns.heatmap(df[['temp_max','temp_min']].corr(),annot=True)"
      ],
      "metadata": {
        "id": "31poQqZNtNeT"
      },
      "execution_count": null,
      "outputs": []
    },
    {
      "cell_type": "code",
      "source": [
        "sns.kdeplot(df[['temp_max','temp_min']])"
      ],
      "metadata": {
        "id": "gxQQJgixiIM_"
      },
      "execution_count": null,
      "outputs": []
    },
    {
      "cell_type": "code",
      "source": [
        "sns.kdeplot(df[['temp_max','temp_min']],shade=True)#adding shade"
      ],
      "metadata": {
        "id": "TXEhxztbl_0R"
      },
      "execution_count": null,
      "outputs": []
    },
    {
      "cell_type": "code",
      "source": [
        "sns.kdeplot(df[['temp_max','temp_min','precipitation']],shade=True,palette='OrRd')#adding palette"
      ],
      "metadata": {
        "id": "DyK0cmTGpybw"
      },
      "execution_count": null,
      "outputs": []
    },
    {
      "cell_type": "code",
      "source": [
        "sns.barplot(x='weather',y='temp_max',data=df,palette='OrRd')"
      ],
      "metadata": {
        "id": "I64V6o-0p5Rh"
      },
      "execution_count": null,
      "outputs": []
    },
    {
      "cell_type": "code",
      "source": [
        "sns.scatterplot(x='temp_max',y='temp_min',data=df,hue='weather')"
      ],
      "metadata": {
        "id": "5aCk7D0BrG1R"
      },
      "execution_count": null,
      "outputs": []
    },
    {
      "cell_type": "code",
      "source": [
        "sns.catplot(x='weather',y='temp_max',data=df)"
      ],
      "metadata": {
        "id": "Q91wB40ksNSG"
      },
      "execution_count": null,
      "outputs": []
    },
    {
      "cell_type": "code",
      "source": [
        "from scipy import stats\n",
        "per=stats.percentileofscore(df['temp_max'],100)\n",
        "print(per)"
      ],
      "metadata": {
        "id": "vBySZIDEs_Nv"
      },
      "execution_count": null,
      "outputs": []
    },
    {
      "cell_type": "code",
      "source": [],
      "metadata": {
        "id": "fZSAOClLvA9g"
      },
      "execution_count": null,
      "outputs": []
    }
  ]
}